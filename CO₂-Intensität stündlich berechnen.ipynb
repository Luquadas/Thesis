{
 "cells": [
  {
   "cell_type": "code",
   "execution_count": 54,
   "id": "85817989",
   "metadata": {},
   "outputs": [
    {
     "name": "stdout",
     "output_type": "stream",
     "text": [
      "⚠️ xlsxwriter nicht installiert. Fallback zu openpyxl.\n",
      "✅ Excel erfolgreich geschrieben nach: C:\\Users\\asus\\Desktop\\Masterarbeit\\Realisierte Erzeugung\\Strommix_mit_Emissionen_2325_EE_Null.xlsx\n"
     ]
    }
   ],
   "source": [
    "import pandas as pd\n",
    "from pathlib import Path\n",
    "\n",
    "# 📍 Pfad zur CSV anpassen\n",
    "csv_path = Path(r\"C:\\Users\\asus\\Desktop\\Masterarbeit\\Realisierte Erzeugung\\Realisierte_Erzeugung_2325.csv\")\n",
    "xlsx_path = Path(r\"C:\\Users\\asus\\Desktop\\Masterarbeit\\Realisierte Erzeugung\\Strommix_mit_Emissionen_2325_EE_Null.xlsx\")\n",
    "\n",
    "# 📊 Emissionsfaktoren [g CO2 / kWh] \n",
    "# in der inventarbasierten Strommix-Berechnung wird Wind, PV, Wasser- und Biomassestrom \n",
    "#i. d. R. mit 0 g CO₂ pro kWh angesetzt, weil nur die direkten Emissionen am Kraftwerksstandort gezählt werden.\n",
    "#Lebenszyklus-Emissionen (LCA) – also alles, \n",
    "#was in vorgelagerten Prozessen (Herstellung von Modulen, Stahl, Beton, Transport, Rückbau …) \n",
    "#anfällt – werden dabei explizit ausgeklammert.\n",
    "\n",
    "\n",
    "\n",
    "\n",
    "\n",
    "\n",
    "FACTORS_G_PER_KWH = {\n",
    "    \"Braunkohle [MWh]\":      1049,\n",
    "    \"Steinkohle [MWh]\":       867,\n",
    "    \"Erdgas [MWh]\":           358,\n",
    "    \"Biomasse [MWh]\":          0,\n",
    "    \"Photovoltaik [MWh]\":      0,\n",
    "    \"Wind Onshore [MWh]\":      0,\n",
    "    \"Wind Offshore [MWh]\":     0,\n",
    "    \"Wasserkraft [MWh]\":       0,\n",
    "    \"Kernenergie [MWh]\":       0\n",
    "}\n",
    "\n",
    "# 📥 CSV einlesen\n",
    "df = pd.read_csv(\n",
    "    csv_path,\n",
    "    sep=\";\",\n",
    "    decimal=\",\",\n",
    "    parse_dates=[\"Datum von\", \"Datum bis\"],\n",
    "    dayfirst=True,\n",
    "    dtype=str,\n",
    ")\n",
    "\n",
    "# Spaltennamen bereinigen\n",
    "df.columns = df.columns.str.strip()\n",
    "\n",
    "# 🧮 Zahlenformate umwandeln\n",
    "for col in df.columns:\n",
    "    if col.endswith(\"[MWh]\"):\n",
    "        df[col] = (\n",
    "            df[col]\n",
    "            .str.replace(\".\", \"\", regex=False)\n",
    "            .str.replace(\",\", \".\", regex=False)\n",
    "            .astype(float)\n",
    "        )\n",
    "\n",
    "# 🧪 CO2-Spalten erzeugen\n",
    "for col, factor in FACTORS_G_PER_KWH.items():\n",
    "    if col in df.columns:\n",
    "        co2_col = col.replace(\"[MWh]\", \"[t_CO2]\")\n",
    "        df[co2_col] = df[col] * factor / 1000  # g → t\n",
    "    else:\n",
    "        print(f\"⚠️ Spalte '{col}' nicht im Datensatz gefunden.\")\n",
    "\n",
    "# ➕ Summen und CO₂-Intensität\n",
    "mwh_cols = [c for c in df.columns if c.endswith(\"[MWh]\")]\n",
    "co2_cols = [c for c in df.columns if c.endswith(\"[t_CO2]\")]\n",
    "df[\"Sum_MWh\"] = df[mwh_cols].sum(axis=1)\n",
    "df[\"Sum_t_CO2\"] = df[co2_cols].sum(axis=1)\n",
    "df[\"Mix_g_CO2_kWh\"] = (df[\"Sum_t_CO2\"] * 1_000_000) / (df[\"Sum_MWh\"] * 1_000)\n",
    "\n",
    "# 💾 Excel schreiben (mit OpenPyXL als Fallback)\n",
    "try:\n",
    "    with pd.ExcelWriter(xlsx_path, engine=\"xlsxwriter\", datetime_format=\"yyyy-mm-dd hh:mm\") as writer:\n",
    "        df.to_excel(writer, index=False, sheet_name=\"Strommix\")\n",
    "except ModuleNotFoundError:\n",
    "    print(\"⚠️ xlsxwriter nicht installiert. Fallback zu openpyxl.\")\n",
    "    df.to_excel(xlsx_path, index=False, sheet_name=\"Strommix\")\n",
    "\n",
    "print(\"✅ Excel erfolgreich geschrieben nach:\", xlsx_path)\n"
   ]
  },
  {
   "cell_type": "code",
   "execution_count": null,
   "id": "3476b7f6",
   "metadata": {},
   "outputs": [],
   "source": []
  },
  {
   "cell_type": "code",
   "execution_count": null,
   "id": "ae68163a",
   "metadata": {},
   "outputs": [],
   "source": []
  },
  {
   "cell_type": "code",
   "execution_count": null,
   "id": "a8a0db21",
   "metadata": {},
   "outputs": [],
   "source": [
    "\n"
   ]
  },
  {
   "cell_type": "code",
   "execution_count": 44,
   "id": "c2e31dd3",
   "metadata": {},
   "outputs": [],
   "source": []
  },
  {
   "cell_type": "code",
   "execution_count": null,
   "id": "169f1d0b",
   "metadata": {},
   "outputs": [],
   "source": []
  },
  {
   "cell_type": "code",
   "execution_count": null,
   "id": "c50453e2",
   "metadata": {},
   "outputs": [],
   "source": []
  },
  {
   "cell_type": "code",
   "execution_count": null,
   "id": "2aad54df",
   "metadata": {},
   "outputs": [],
   "source": []
  }
 ],
 "metadata": {
  "kernelspec": {
   "display_name": "Python 3 (ipykernel)",
   "language": "python",
   "name": "python3"
  },
  "language_info": {
   "codemirror_mode": {
    "name": "ipython",
    "version": 3
   },
   "file_extension": ".py",
   "mimetype": "text/x-python",
   "name": "python",
   "nbconvert_exporter": "python",
   "pygments_lexer": "ipython3",
   "version": "3.9.16"
  }
 },
 "nbformat": 4,
 "nbformat_minor": 5
}
